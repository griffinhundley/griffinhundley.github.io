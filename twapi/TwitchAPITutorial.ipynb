{
 "cells": [
  {
   "cell_type": "markdown",
   "metadata": {},
   "source": [
    "# Python Twitch API Tutorial"
   ]
  },
  {
   "cell_type": "markdown",
   "metadata": {},
   "source": [
    "This article will serve as a brief introduction to the integration of Python and the Twitch API.  For the API documentation, visit https://dev.twitch.tv/docs/.  This specific implementation will take place in the Jupyter Notebook environment. \n",
    "***"
   ]
  },
  {
   "cell_type": "markdown",
   "metadata": {},
   "source": [
    "## Step 1 - Register App\n",
    "The first action that must be taken is making a Twitch account.  This is required to register an app to receive the credentials necessary to interact with the API.  Once you have an account, go to the dev console on Twitch and register the app.  Give it whatever name you want and set the redirect URL to `http://localhost` for local testing.  This is the URL you will be directed to if making an auth token request of a user and can be changed at a later time.\n",
    "\n",
    "Once you have the app registered, there are 2 important variables. The client id and secret are the identifiers for your app that grant you permission to use the API.  Note that they should not be publicly visible. \n",
    "\n",
    "To keep these credentials hidden, create an empty .py file in the project directory, and name it something like `secret` or `credentials` (this is what I will use in this example).  If the project is stored in a public repository, make sure to add this file to the .gitignore.  Within the .py file, add the following lines, replacing the xxx's with the random string of letters. \n",
    "\n",
    "```\n",
    "client_id = 'xxxxxxxxxxxxxxxxxxxxx'\n",
    "secret = 'xxxxxxxxxxxxxxxxxxxxx'\n",
    "```\n",
    "\n",
    "Import these variables into the python environment"
   ]
  },
  {
   "cell_type": "code",
   "execution_count": null,
   "metadata": {},
   "outputs": [],
   "source": [
    "# import the file we created with our client_id and secret variables\n",
    "import credentials\n",
    "client_id = credentials.client_id\n",
    "secret = credentials.secret"
   ]
  },
  {
   "cell_type": "markdown",
   "metadata": {},
   "source": [
    "***"
   ]
  },
  {
   "cell_type": "markdown",
   "metadata": {},
   "source": [
    "## Step 2 - Authentication\n",
    "\n",
    "Different pieces of information require different forms of authentication.  Requesting public information requires an App Authentication token.  Personal user information requires a User token.  For this example I just want generic public information on channels, so according to the documentation I should use the OAuth client credentials flow.  For apps that require special user permissions, this is where you will set your redirect url and use a different flow for user access tokens with the necessary scopes.\n",
    "\n",
    "**OAuth client credentials flow:**\n",
    "\n",
    "```\n",
    "POST https://id.twitch.tv/oauth2/token\n",
    "\n",
    "    ?client_id=<your client ID>\n",
    "    \n",
    "    &client_secret=<your client secret>\n",
    "    \n",
    "    &grant_type=client_credentials\n",
    "    \n",
    "    &scope=<space-separated list of scopes>\n",
    "```"
   ]
  },
  {
   "cell_type": "code",
   "execution_count": 138,
   "metadata": {},
   "outputs": [],
   "source": [
    "# To make this request in Python, we use the `requests` library\n",
    "# The json library is used to parse the response\n",
    "import requests, json\n",
    "# the URL base \n",
    "def get_token():\n",
    "    '''\n",
    "    Returns an OAuth client credentials flow App token for an associated client id.\n",
    "    Prints the status code (200 = success, 400 = failure).\n",
    "    Prints the token expiration.\n",
    "    '''\n",
    "    auth_url = 'https://id.twitch.tv/oauth2/token'\n",
    "    # parameters for token request with credentials\n",
    "    auth_params = {'client_id': client_id,\n",
    "                   'client_secret': secret,\n",
    "                   'grant_type': 'client_credentials',\n",
    "                   'scope':''}\n",
    "    # Request response, using the url base and params to structure the request\n",
    "    auth_response = requests.post(auth_url, params = auth_params)\n",
    "    # Status code 200 means the request was successful\n",
    "    print(f'Status code: {auth_response.status_code}')\n",
    "    # Get the expiration time of token in seconds, divide by 3600 to get hours\n",
    "    exp_time = round(auth_response.json()['expires_in'] / 3600, 2)\n",
    "    print(f'This token expires in {exp_time} hours')\n",
    "    token = auth_response.json()['access_token']\n",
    "    return token"
   ]
  },
  {
   "cell_type": "code",
   "execution_count": 128,
   "metadata": {},
   "outputs": [
    {
     "name": "stdout",
     "output_type": "stream",
     "text": [
      "Status code: 200\n",
      "This token expires in 1510.37 hours\n"
     ]
    }
   ],
   "source": [
    "# call the function to get the token\n",
    "token = get_token()"
   ]
  },
  {
   "cell_type": "markdown",
   "metadata": {},
   "source": [
    "***"
   ]
  },
  {
   "cell_type": "markdown",
   "metadata": {},
   "source": [
    "## Step 3 - Make Requests"
   ]
  },
  {
   "cell_type": "markdown",
   "metadata": {},
   "source": [
    "Now that we have an access token, we can make requests.  Twitch has depricated the v5 and kraken APIs so helix is the version that should be used.  Whenever a request is made, the client id and authorization token need to be passed as headers.  Some of the types of queries that can be made are:\n",
    "\n",
    "* get games\n",
    "* get top games\n",
    "* search categories\n",
    "* search channels\n",
    "* get streams\n",
    "* get tags\n",
    "* get users\n",
    "* get user follows etc.\n",
    "\n",
    "Some queries require special permissions or scopes and need the authorization of the user.  Note that the API has a rate limit of 800 points per minute (requests by token)."
   ]
  },
  {
   "cell_type": "code",
   "execution_count": 131,
   "metadata": {},
   "outputs": [],
   "source": [
    "# takes the query type (users, channels, games, streams etc)\n",
    "# the argument being searched for (id, login, display_name) etc\n",
    "# and the channel (ie: gmhikaru (for login), 103268673 (for id))\n",
    "def request_it(query, fields):\n",
    "    '''\n",
    "    Makes a GET request from the Twitch.tv helix API.\n",
    "    Receives a string for the query ex: users, games/top, search/categories...,\n",
    "    and a dict for the field parameter ex: {'login': 'gmhikaru'}\n",
    "    '''\n",
    "    # the base url for making api requests\n",
    "    base_url = 'https://api.twitch.tv/helix/'\n",
    "    # authorization information\n",
    "    headers = {'client-id': client_id,\n",
    "               'Authorization': f'Bearer {token}'}\n",
    "    # type of query, users gets the \n",
    "    response = requests.get(base_url + query,\n",
    "                            headers = headers,\n",
    "                            params = fields)\n",
    "    print(f'Status code: {response.status_code}')\n",
    "    print(f'Request URL: {response.url}')\n",
    "    return response.json()"
   ]
  },
  {
   "cell_type": "markdown",
   "metadata": {},
   "source": [
    "For example, to look up a specific channel by the username, we can specify `./helix/users` and `login=gmhikaru`."
   ]
  },
  {
   "cell_type": "code",
   "execution_count": 87,
   "metadata": {},
   "outputs": [
    {
     "name": "stdout",
     "output_type": "stream",
     "text": [
      "Status code: 200\n",
      "Request URL: https://api.twitch.tv/helix/users?login=gmhikaru\n"
     ]
    },
    {
     "data": {
      "text/plain": [
       "{'data': [{'id': '103268673',\n",
       "   'login': 'gmhikaru',\n",
       "   'display_name': 'GMHikaru',\n",
       "   'type': '',\n",
       "   'broadcaster_type': 'partner',\n",
       "   'description': 'Grandmaster Hikaru Nakamura, 5-time United States Chess Champion ',\n",
       "   'profile_image_url': 'https://static-cdn.jtvnw.net/jtv_user_pictures/cd921fcd-53fc-4b1d-be23-0787bc36b756-profile_image-300x300.png',\n",
       "   'offline_image_url': 'https://static-cdn.jtvnw.net/jtv_user_pictures/cc6af6f3-acb3-4a32-8223-13de1d2aadd1-channel_offline_image-1920x1080.png',\n",
       "   'view_count': 37784077,\n",
       "   'created_at': '2015-09-29T10:35:23.386423Z'}]}"
      ]
     },
     "execution_count": 87,
     "metadata": {},
     "output_type": "execute_result"
    }
   ],
   "source": [
    "request_it('users', {'login':'gmhikaru'})"
   ]
  },
  {
   "cell_type": "markdown",
   "metadata": {},
   "source": [
    "Using this function we can begin collecting a dataset.  But first we will need to generate a list of streams to get data on.\n",
    "***"
   ]
  },
  {
   "cell_type": "markdown",
   "metadata": {},
   "source": [
    "## Step 4 - Collect Data"
   ]
  },
  {
   "cell_type": "markdown",
   "metadata": {},
   "source": [
    "The json format in which the data is returned can be easily converted into a structured dataset using pandas.  First, a loop is using the `./helix/streams` API, returning 100 results on the page. Then, the cursor information is passed in recursion to move to the subsequent page.  Storing each page in a list and then unwrapping the list of pages gives a sequential list of all the top currently live streams sorted by viewer count.\n",
    "\n",
    "Note that it is important to limit the frequency of requests - to not to place undue network burden on the server you are requesting from, or hit the rate-limit for your token/IP address causing a negative status code error. "
   ]
  },
  {
   "cell_type": "code",
   "execution_count": 136,
   "metadata": {},
   "outputs": [],
   "source": [
    "def unwrap_list_of_lists(list_of_lists):\n",
    "    '''\n",
    "    Unwraps list of list structures.\n",
    "    Receives a nested list structure [list0, list1, list2, ...].\n",
    "    Returns each of the elements from each of the lists as an unnested list.\n",
    "    '''\n",
    "    lst = []\n",
    "    for i in range(len(list_of_lists)):\n",
    "        for j in range(len(list_of_lists[i])):\n",
    "            lst.append(list_of_lists[i][j])\n",
    "        print(len(lst))\n",
    "    return lst"
   ]
  },
  {
   "cell_type": "code",
   "execution_count": 140,
   "metadata": {},
   "outputs": [],
   "source": [
    "import time\n",
    "def get_stream_list(n_pages = 1):\n",
    "    '''\n",
    "    Gets the top 100 currently live streams per page, sorted by viewer count.\n",
    "    The argument is n_pages, number of pages to be queried.\n",
    "    Prints the status code (200 = success, 400 = failure) per request.\n",
    "    Prints the request URL per page.\n",
    "    Prints the number of elements per page.\n",
    "    '''\n",
    "    pages = []\n",
    "    cursor = ''\n",
    "    for i in range(n_pages):\n",
    "        response = request_it('streams', {'first': 100,\n",
    "                                          'after': cursor})\n",
    "        cursor = response['pagination']['cursor']\n",
    "        pages.append(response['data'])\n",
    "        time.sleep(.2)\n",
    "    return unwrap_list_of_lists(pages)"
   ]
  },
  {
   "cell_type": "code",
   "execution_count": 137,
   "metadata": {},
   "outputs": [
    {
     "name": "stdout",
     "output_type": "stream",
     "text": [
      "Status code: 200\n",
      "Request URL: https://api.twitch.tv/helix/streams?first=100&after=\n",
      "99\n"
     ]
    }
   ],
   "source": [
    "# Call the function to get list of live channels\n",
    "stream_list = get_stream_list()"
   ]
  },
  {
   "cell_type": "markdown",
   "metadata": {},
   "source": [
    "Now that the data exists a list of dictionaries, it is as simple as calling pd.DataFrame() to convert it into a useable dataset"
   ]
  },
  {
   "cell_type": "code",
   "execution_count": 139,
   "metadata": {},
   "outputs": [
    {
     "data": {
      "text/html": [
       "<div>\n",
       "<style scoped>\n",
       "    .dataframe tbody tr th:only-of-type {\n",
       "        vertical-align: middle;\n",
       "    }\n",
       "\n",
       "    .dataframe tbody tr th {\n",
       "        vertical-align: top;\n",
       "    }\n",
       "\n",
       "    .dataframe thead th {\n",
       "        text-align: right;\n",
       "    }\n",
       "</style>\n",
       "<table border=\"1\" class=\"dataframe\">\n",
       "  <thead>\n",
       "    <tr style=\"text-align: right;\">\n",
       "      <th></th>\n",
       "      <th>user_id</th>\n",
       "      <th>user_name</th>\n",
       "      <th>language</th>\n",
       "      <th>viewer_count</th>\n",
       "      <th>game_name</th>\n",
       "    </tr>\n",
       "  </thead>\n",
       "  <tbody>\n",
       "    <tr>\n",
       "      <th>0</th>\n",
       "      <td>83399952</td>\n",
       "      <td>UNLOSTV</td>\n",
       "      <td>tr</td>\n",
       "      <td>96981</td>\n",
       "      <td>Just Chatting</td>\n",
       "    </tr>\n",
       "    <tr>\n",
       "      <th>1</th>\n",
       "      <td>83232866</td>\n",
       "      <td>ibai</td>\n",
       "      <td>es</td>\n",
       "      <td>78999</td>\n",
       "      <td>Among Us</td>\n",
       "    </tr>\n",
       "    <tr>\n",
       "      <th>2</th>\n",
       "      <td>233334675</td>\n",
       "      <td>battlestategames</td>\n",
       "      <td>en</td>\n",
       "      <td>51365</td>\n",
       "      <td>Escape From Tarkov</td>\n",
       "    </tr>\n",
       "    <tr>\n",
       "      <th>3</th>\n",
       "      <td>31239503</td>\n",
       "      <td>ESL_CSGO</td>\n",
       "      <td>en</td>\n",
       "      <td>48942</td>\n",
       "      <td>Counter-Strike: Global Offensive</td>\n",
       "    </tr>\n",
       "    <tr>\n",
       "      <th>4</th>\n",
       "      <td>15564828</td>\n",
       "      <td>NICKMERCS</td>\n",
       "      <td>en</td>\n",
       "      <td>48391</td>\n",
       "      <td>Call of Duty: Warzone</td>\n",
       "    </tr>\n",
       "    <tr>\n",
       "      <th>...</th>\n",
       "      <td>...</td>\n",
       "      <td>...</td>\n",
       "      <td>...</td>\n",
       "      <td>...</td>\n",
       "      <td>...</td>\n",
       "    </tr>\n",
       "    <tr>\n",
       "      <th>94</th>\n",
       "      <td>254756234</td>\n",
       "      <td>KristoferYee</td>\n",
       "      <td>en</td>\n",
       "      <td>5478</td>\n",
       "      <td>Minecraft</td>\n",
       "    </tr>\n",
       "    <tr>\n",
       "      <th>95</th>\n",
       "      <td>26560695</td>\n",
       "      <td>Shiphtur</td>\n",
       "      <td>en</td>\n",
       "      <td>5475</td>\n",
       "      <td>League of Legends</td>\n",
       "    </tr>\n",
       "    <tr>\n",
       "      <th>96</th>\n",
       "      <td>59965916</td>\n",
       "      <td>RduLIVE</td>\n",
       "      <td>en</td>\n",
       "      <td>5414</td>\n",
       "      <td>Hearthstone</td>\n",
       "    </tr>\n",
       "    <tr>\n",
       "      <th>97</th>\n",
       "      <td>174955366</td>\n",
       "      <td>Solary</td>\n",
       "      <td>fr</td>\n",
       "      <td>5374</td>\n",
       "      <td>League of Legends</td>\n",
       "    </tr>\n",
       "    <tr>\n",
       "      <th>98</th>\n",
       "      <td>245622027</td>\n",
       "      <td>deercheerup</td>\n",
       "      <td>pt</td>\n",
       "      <td>5330</td>\n",
       "      <td>FIFA 21</td>\n",
       "    </tr>\n",
       "  </tbody>\n",
       "</table>\n",
       "<p>99 rows × 5 columns</p>\n",
       "</div>"
      ],
      "text/plain": [
       "      user_id         user_name language  viewer_count  \\\n",
       "0    83399952           UNLOSTV       tr         96981   \n",
       "1    83232866              ibai       es         78999   \n",
       "2   233334675  battlestategames       en         51365   \n",
       "3    31239503          ESL_CSGO       en         48942   \n",
       "4    15564828         NICKMERCS       en         48391   \n",
       "..        ...               ...      ...           ...   \n",
       "94  254756234      KristoferYee       en          5478   \n",
       "95   26560695          Shiphtur       en          5475   \n",
       "96   59965916           RduLIVE       en          5414   \n",
       "97  174955366            Solary       fr          5374   \n",
       "98  245622027       deercheerup       pt          5330   \n",
       "\n",
       "                           game_name  \n",
       "0                      Just Chatting  \n",
       "1                           Among Us  \n",
       "2                 Escape From Tarkov  \n",
       "3   Counter-Strike: Global Offensive  \n",
       "4              Call of Duty: Warzone  \n",
       "..                               ...  \n",
       "94                         Minecraft  \n",
       "95                 League of Legends  \n",
       "96                       Hearthstone  \n",
       "97                 League of Legends  \n",
       "98                           FIFA 21  \n",
       "\n",
       "[99 rows x 5 columns]"
      ]
     },
     "execution_count": 139,
     "metadata": {},
     "output_type": "execute_result"
    }
   ],
   "source": [
    "import pandas as pd\n",
    "df = pd.DataFrame(stream_list)[['user_id','user_name', 'language', 'viewer_count', 'game_name']]\n",
    "df"
   ]
  },
  {
   "cell_type": "code",
   "execution_count": 114,
   "metadata": {},
   "outputs": [
    {
     "data": {
      "text/html": [
       "<div>\n",
       "<style scoped>\n",
       "    .dataframe tbody tr th:only-of-type {\n",
       "        vertical-align: middle;\n",
       "    }\n",
       "\n",
       "    .dataframe tbody tr th {\n",
       "        vertical-align: top;\n",
       "    }\n",
       "\n",
       "    .dataframe thead th {\n",
       "        text-align: right;\n",
       "    }\n",
       "</style>\n",
       "<table border=\"1\" class=\"dataframe\">\n",
       "  <thead>\n",
       "    <tr style=\"text-align: right;\">\n",
       "      <th></th>\n",
       "      <th>viewer_count</th>\n",
       "    </tr>\n",
       "  </thead>\n",
       "  <tbody>\n",
       "    <tr>\n",
       "      <th>count</th>\n",
       "      <td>9953.000000</td>\n",
       "    </tr>\n",
       "    <tr>\n",
       "      <th>mean</th>\n",
       "      <td>327.814428</td>\n",
       "    </tr>\n",
       "    <tr>\n",
       "      <th>std</th>\n",
       "      <td>2248.913383</td>\n",
       "    </tr>\n",
       "    <tr>\n",
       "      <th>min</th>\n",
       "      <td>0.000000</td>\n",
       "    </tr>\n",
       "    <tr>\n",
       "      <th>25%</th>\n",
       "      <td>30.000000</td>\n",
       "    </tr>\n",
       "    <tr>\n",
       "      <th>50%</th>\n",
       "      <td>52.000000</td>\n",
       "    </tr>\n",
       "    <tr>\n",
       "      <th>75%</th>\n",
       "      <td>128.000000</td>\n",
       "    </tr>\n",
       "    <tr>\n",
       "      <th>max</th>\n",
       "      <td>104824.000000</td>\n",
       "    </tr>\n",
       "  </tbody>\n",
       "</table>\n",
       "</div>"
      ],
      "text/plain": [
       "        viewer_count\n",
       "count    9953.000000\n",
       "mean      327.814428\n",
       "std      2248.913383\n",
       "min         0.000000\n",
       "25%        30.000000\n",
       "50%        52.000000\n",
       "75%       128.000000\n",
       "max    104824.000000"
      ]
     },
     "execution_count": 114,
     "metadata": {},
     "output_type": "execute_result"
    }
   ],
   "source": [
    "df.describe()"
   ]
  },
  {
   "cell_type": "code",
   "execution_count": 126,
   "metadata": {},
   "outputs": [
    {
     "data": {
      "text/plain": [
       "<matplotlib.axes._subplots.AxesSubplot at 0x7fc64f712710>"
      ]
     },
     "execution_count": 126,
     "metadata": {},
     "output_type": "execute_result"
    },
    {
     "data": {
      "image/png": "[encoded data removed]",
      "text/plain": [
       "<Figure size 432x288 with 1 Axes>"
      ]
     },
     "metadata": {
      "needs_background": "light"
     },
     "output_type": "display_data"
    }
   ],
   "source": [
    "import matplotlib.pyplot as plt\n",
    "import seaborn as sns\n",
    "fig, ax = plt.subplots()\n",
    "sns.distplot(df.viewer_count.loc[df.viewer_count<200])"
   ]
  },
  {
   "cell_type": "markdown",
   "metadata": {},
   "source": [
    "***"
   ]
  }
 ],
 "metadata": {
  "kernelspec": {
   "display_name": "learn-env",
   "language": "python",
   "name": "learn-env"
  },
  "language_info": {
   "codemirror_mode": {
    "name": "ipython",
    "version": 3
   },
   "file_extension": ".py",
   "mimetype": "text/x-python",
   "name": "python",
   "nbconvert_exporter": "python",
   "pygments_lexer": "ipython3",
   "version": "3.6.9"
  }
 },
 "nbformat": 4,
 "nbformat_minor": 4
}
